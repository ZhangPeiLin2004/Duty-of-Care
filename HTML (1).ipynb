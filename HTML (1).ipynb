{
 "cells": [
  {
   "cell_type": "markdown",
   "id": "34ebd55f-ceee-4de1-88fb-4b54993fcc3e",
   "metadata": {
    "deletable": false,
    "editable": false,
    "tags": []
   },
   "source": [
    "#### Supporting Resources for HTML, CSS and Python Flask:\n",
    "\n",
    "- Robbins, J. N. (2012). *Learning web design: A beginner's guide to HTML, CSS, JavaScript, and web graphics*. \"O'Reilly Media, Inc.\"\n",
    "- [CS50 Web Programming](https://cs50.harvard.edu/web/2020/weeks/0/)\n",
    "- [MDN Web Docs](https://developer.mozilla.org/en-US/)\n",
    "- [W3Schools](https://www.w3schools.com/)\n",
    "- [TutorialRepublic](https://www.tutorialrepublic.com/)\n",
    "- [Bootstrap](https://getbootstrap.com/)\n",
    "- [Flask Documentation](https://pypi.org/project/Flask/)\n",
    "\n",
    "#### Acknowledgements\n",
    "\n",
    "These materials for HTML, CSS and Python Flask topics have been designed for the Computational Social Science bachelor programme. \n",
    "\n",
    "It is partially based on many great programming resources that have been published as Open Courseware under a [Creative Commons license](https://creativecommons.org). The resulting work itself is also published under the <a rel=\"license\" href=\"http://creativecommons.org/licenses/by-nc-sa/4.0/\"><img alt=\"Creative Commons License\" style=\"border-width:0\" src=\"https://i.creativecommons.org/l/by-nc-sa/4.0/80x15.png\" /></a> <a rel=\"license\" href=\"http://creativecommons.org/licenses/by-nc-sa/4.0/\">Creative Commons Attribution-NonCommercial-ShareAlike 4.0 International License</a>. Feel free to re-use! If you would like to use the work commercially, please send an e-mail for arranging a license.\n",
    "\n",
    "We have used the following resources to prepare our material:\n",
    "\n",
    "- CS50’s Web Programming with Python and JavaScript by Brian Yu and David J. Malan at Harvard, <https://cs50.harvard.edu/web/2020/>\n",
    "- CS50’s Introduction to Computer Science by David J. Malan at Harvard, <https://cs50.harvard.edu/x/2022/>\n",
    "- MDN Web Docs, <https://developer.mozilla.org/en-US/>\n",
    "\n",
    "---"
   ]
  },
  {
   "cell_type": "markdown",
   "id": "05ba3d3e-a61b-440e-bf98-218ed13a26f2",
   "metadata": {
    "deletable": false,
    "editable": false,
    "tags": []
   },
   "source": [
    "## HTML Basics\n",
    "\n",
    "HTML stands for **Hypertext Markup Language**. It is not a programming but a markup language to create the structure of a web page. The web page is displayed on your screen after HTML is interpreted by your browser (e.g. Chrome, Firefox, Safari, Opera, Edge). HTML code is read from top to bottom and left to right. \n",
    "\n",
    "A complete HTML is composed of a set of **element**s. Elements can be nested inside of other elements. An element looks like this:\n",
    "\n",
    "    <tagname> content </tagname>\n",
    "\n",
    "An HTML element starts with an **opening tag**, then includes some **content**, and ends with a **closing tag**. **Tag** is a keyword used to define the type of structure that the *content* should have. Notice that the tag name is used within `<>` brackets, and a closing tag must start with a `/` to indicate that it is a closing one.\n",
    "\n",
    "Some fundamental tag types are listed here:\n",
    "\n",
    "|Tag Type  |Function                 | \n",
    "|----------|-------------------------|\n",
    "|<!DOCTYPE>|Defines the document type|\n",
    "|\\<html>   |Defines an HTML content |\n",
    "|\\<head>   |Contains meta information of the HTML page|\n",
    "|\\<title>  |Defines a title for the document which is shown in the browser's title bar or in the page's tab|\n",
    "|\\<body>   |Defines the document's body to be displayed on the web page, including headings, paragraphs, images, hyperlinks, tables etc.|\n",
    "|\\<div>    |Defines a seperate section in the page|\n",
    "|\\<h1> ... \\<h6> |Defines large headings, from largest with \\<h1> to smallest with \\<h6>|\n",
    "|\\<p>      |Defines a paragraph|\n",
    "|\\<a>      |Defines a hyperlink|\n",
    "\n",
    "Some tag types used for (very basic) styling:\n",
    "\n",
    "|Tag Type  |Function                 | \n",
    "|----------|-------------------------|\n",
    "|\\<b>      |Makes the content text bold|\n",
    "|\\<i>      |Makes the content text italic|\n",
    "|\\<u>      |Underlines the content text|\n",
    "\n",
    "---\n",
    "**Example:** \n",
    "\n",
    "- If you want to display \"Hello, world!\" on your web page, the HTML structure will include the following element in its *body*:\n",
    "\n",
    "        <body> Hello, world! </body>\n",
    "        \n",
    "- If you want to write this text in bold, then there will be a nested second element as such:\n",
    "\n",
    "        <body> <b> Hello, world! </b> </body>\n",
    "---\n",
    "\n",
    "Some elements do not need a closing tag; they are used only with an opening tag. For example:\n",
    "\n",
    "|Tag Type  |Function                 | \n",
    "|----------|-------------------------|\n",
    "|\\<br>     |Breaks a line|\n",
    "|\\<hr>     |Draws a horizontal line across the webpage|\n",
    "|\\<img>    |Adds an image|\n",
    "\n",
    "**Note:** HTML has too many tag options to list here. You can always google to find/remember what you need in HTML. [W3Schools](https://www.w3schools.com/) is a good resource to find and learn options for HTML (and CSS). "
   ]
  },
  {
   "cell_type": "markdown",
   "id": "c81e8aa8-7a4a-4abb-a109-d599b68665e5",
   "metadata": {
    "deletable": false,
    "editable": false,
    "tags": []
   },
   "source": [
    "An HTML document must start by declaring the document type, the version of HTML to be used. `<!DOCTYPE html>` states that the latest version of HTML will be the document type. Afterwards, the structure must include an `html` element to declare the HTML content, including opening `<html>` and closing `</html>` tags, and all the HTML content will be written inside this main element. \n",
    "\n",
    "---\n",
    "\n",
    "**Example:** \n",
    "\n",
    "- Our \"Hello, world!\" example should look like this to function as an html document:\n",
    "\n",
    "        <!DOCTYPE html> <html> <body> <b> Hello, world! </b> </body> </html>\n",
    "        \n",
    "\n",
    "- Note that sequences of whitespaces are collapsed in HTML and act as a single whitespace. Thus, this one line of code can also be written as:\n",
    "\n",
    "        <!DOCTYPE html> \n",
    "        <html>\n",
    "            <body> \n",
    "                <b> Hello, world! </b> \n",
    "            </body> \n",
    "        </html>\n",
    "        \n",
    "Indentation is not *required* in HTML, unlike Python. *However*, code with indentation always looks nicer and clearer. \n",
    "\n",
    "---\n"
   ]
  },
  {
   "cell_type": "markdown",
   "id": "4146d08d-4299-4391-a7b5-acdd35f08b8a",
   "metadata": {
    "deletable": false,
    "editable": false,
    "tags": []
   },
   "source": [
    "In addition to tags, HTML elements can have **attribute**s which describe additional information about the elements. They are specified in the opening tag of the corresponding element. For example, in order to set the language of the web page to English, `lang` attribute is used in the `<html>` opening tag of the element, as in `<html lang=\"en\">`."
   ]
  },
  {
   "cell_type": "markdown",
   "id": "6fe6f36d-999f-4350-832d-be0a48ab98b1",
   "metadata": {
    "deletable": false,
    "editable": false,
    "tags": []
   },
   "source": [
    "### Creating and Executing an HTML File"
   ]
  },
  {
   "cell_type": "markdown",
   "id": "2cd9a838-a8d5-491e-b061-3908ea85a7a7",
   "metadata": {
    "deletable": false,
    "editable": false,
    "tags": []
   },
   "source": [
    "To create HTML files (with the `.html` extension), we need a text editor. This can be just a text editor like Sublime Text, Notepad and Notepad++. However, we strongly advise you to work with an IDE that can also be used for executing code in addition to text editing. The main reason for that is to gain and experience with a useful asset for your other programming experiences in the future...\n",
    " \n",
    "So far, we used JupyterLab (it is also an IDE) in our programme but it is not very straightforward to work on web development with JupyterLab. For web development tasks (as in our second semester), we suggest using Visual Studio Code (VS Code) because of its wide-range functionality and popularity in the developers' world... To download VS Code, use [this link](https://code.visualstudio.com/).\n",
    "\n",
    "You can create a new HTML file by adding the .html extension to its name (example_name.html) when you create a new file in VS Code. After saving your HTML file on your device, you can open this file in your browser (instead of VS Code) to execute it. An HTML file execution in the browser will display the content of the web page in a new tab. This is different from opening the HTML files in the editor because, in the browser, you will not see the HTML lines on the screen; you will see how the product of the HTML lines looks. You can always edit these HTML files in VS Code. Every time you edit your HTML file, you can simply refresh the browser page to display the latest version. \n",
    "\n",
    "An interesting piece of knowledge: you can always access the HTML structure of websites by viewing their source code...\n",
    "\n",
    "---\n",
    "\n",
    "**Example:**\n",
    "\n",
    "- Go to this simple website in your browser: https://isitchristmas.today/\n",
    "\n",
    "- Right-click on the page (In Safari, this option is in the Develop menu of the top menu bar)\n",
    "\n",
    "- Select **View Page Source** \n",
    "\n",
    "- Now, you are looking at the HTML structure that creates the page! Isn't that interesting? "
   ]
  },
  {
   "cell_type": "markdown",
   "id": "a227ff63-9276-4b63-ba84-cb64590672ce",
   "metadata": {
    "deletable": false,
    "editable": false,
    "tags": []
   },
   "source": [
    "----\n",
    "**Exercise 0:**\n",
    "\n",
    "Let's start typing a simple HTML file in your editor:"
   ]
  },
  {
   "cell_type": "markdown",
   "id": "730b3d22-6935-49ae-ac27-c58e3386a906",
   "metadata": {
    "deletable": false,
    "editable": false,
    "tags": []
   },
   "source": [
    "    <!DOCTYPE html>\n",
    "    <html lang=\"en\">\n",
    "        <head>\n",
    "            <title>Hello!</title>\n",
    "        </head>\n",
    "        <body>\n",
    "            Hello, world!\n",
    "        </body>\n",
    "    </html>"
   ]
  },
  {
   "cell_type": "markdown",
   "id": "b4074c61-1385-4ec5-9f56-4702b5f776ef",
   "metadata": {
    "deletable": false,
    "editable": false,
    "tags": []
   },
   "source": [
    "**Warning:** Copy-paste will NOT help you while learning any new language. Instead, type the code yourself in your text editor and play around with it. \n",
    "\n",
    "Save this file as `my_first.html` on your computer. Then, open it by double-clicking on the file (or through your terminal with `open` command). \n",
    "\n",
    "- Where do you see the title and the body on this web page?\n",
    "\n",
    "----"
   ]
  },
  {
   "cell_type": "markdown",
   "id": "8a2a09e8-6682-442e-a035-10404aaabbf4",
   "metadata": {
    "deletable": false,
    "editable": false,
    "tags": []
   },
   "source": [
    "### Adding Lists, Images, Links and Tables to a Web Page"
   ]
  },
  {
   "cell_type": "markdown",
   "id": "28495396-4ec0-422d-affa-b86b17b2c3f1",
   "metadata": {
    "deletable": false,
    "editable": false,
    "tags": []
   },
   "source": [
    "On your web page, you can make a list of items using the following tags:\n",
    "\n",
    "|Tag Type  |Function                 | \n",
    "|----------|-------------------------|\n",
    "|\\<ol>     |Defines an ordered list  |\n",
    "|\\<ul>     |Defines an unordered list|\n",
    "|\\<li>     |Defines a list item      |\n",
    "\n",
    "An **ordered list** will enumerate the items and an **unordered list** will create bullet points for the items. `<ol>` and `<ul>` tags define a list element in your HTML code but they do not add items to the list. You need to use `<li>` tag within the `<ol>` and `<ul>` elements to define items. Therefore, you need to create nested elements. "
   ]
  },
  {
   "cell_type": "markdown",
   "id": "371b3ada-55a1-4312-aeae-26b50fd2dbea",
   "metadata": {
    "deletable": false,
    "editable": false,
    "tags": []
   },
   "source": [
    "---\n",
    "**Exercise 1:**\n",
    "\n",
    "Create a web page that lists the names of your group project members for this semester. Add the name of your group to the top of this list as a header. It would be nice to share the research question of your project with the user of this page as well!\n",
    "\n",
    "- Do you need to add these elements in the head or body part of your code?\n",
    "\n",
    "- How is the layout of the items on the page?\n",
    "\n",
    "---"
   ]
  },
  {
   "cell_type": "markdown",
   "id": "92db2519-6cbf-46fc-a319-6d99e270ea10",
   "metadata": {
    "deletable": false,
    "editable": false,
    "tags": []
   },
   "source": [
    "For a more attractive design, you can add images to your web page using the `<img>` tag. This tag *requires* two attributes to be defined: `src` (source of the image) and `alt` (alternate text for the image). It will look like this: \n",
    "\n",
    "`<img src=\"picture.jpeg\" alt=\"Group Picture\">`\n",
    "\n",
    "The image file defined in the `src` attribute must be located in the same directory as your HTML file. \n",
    "\n",
    "**Remember:** `<img>` element does not need a closing tag!\n",
    "\n",
    "You can also add pictures from other websites instead of your local device. For that, you need to insert the URL of the image (you can obtain that by right-clicking on the image). But be very careful with **copyrights of the images** you use!\n",
    "\n",
    "`<img src=\"Image_URL\" alt=\"Group Picture\">`\n",
    "\n",
    "You can also add a caption to your image using the `<figcaption>` tag. Then we advise you to pack `<img>` and `<figcaption>` together using the `<figure>` tag, like this:\n",
    "\n",
    "    <figure>\n",
    "        <img src=\"picture.jpeg\" alt=\"Group Picture\">\n",
    "        <figcaption> Our Group Picture </figcaption>\n",
    "    </figure>"
   ]
  },
  {
   "cell_type": "markdown",
   "id": "0c06cb40-71e7-480a-81e5-8a603927effd",
   "metadata": {
    "deletable": false,
    "editable": false,
    "tags": []
   },
   "source": [
    "---\n",
    "\n",
    "**Exercise 2:**\n",
    "\n",
    "Update your web page with a picture of your group or a picture that represents your group.\n",
    "\n",
    "- Does it look too big or too small? Then use the `width` and `height` attributes of the `<img>` tag to set the size of your picture to a value you want. \n",
    "\n",
    "---"
   ]
  },
  {
   "cell_type": "markdown",
   "id": "3bc56d0e-cd9e-4514-8e46-2c6e43ba9f2c",
   "metadata": {
    "deletable": false,
    "editable": false,
    "tags": []
   },
   "source": [
    "On your web page, you can provide links to other web pages. For that, you need to use the `<a>` tag which has an optional attribute to define the target URL: `href`. It will look like this: \n",
    "\n",
    "`<a href=\"URL\">`"
   ]
  },
  {
   "cell_type": "markdown",
   "id": "f92dbd73-d9fb-410c-a8f6-6d703588a8a4",
   "metadata": {
    "deletable": false,
    "editable": false,
    "tags": []
   },
   "source": [
    "---\n",
    "\n",
    "**Exercise 3:**\n",
    "\n",
    "Add a link to your project partner's website. If it does not exist, use the link to the Computational Social Science programme website.\n",
    "\n",
    "- Do you see a clickable link on this web page? If not, you need to add text to this element that holds the link. Add a *text* inside the element of `<a>` (between opening and closing tags) which will be visible on the page. \n",
    "\n",
    "---"
   ]
  },
  {
   "cell_type": "markdown",
   "id": "57d72248-e48d-4ee6-b76b-453d922da094",
   "metadata": {
    "deletable": false,
    "editable": false,
    "tags": []
   },
   "source": [
    "You can also create more than one page for a website and navigate the user through these different pages. One way of doing that with HTML is to create and save each page separately with .html extension *in the same folder*. Using `<a href=\"another_page.html\">`, you can direct the user to your \"another_page.html\" page. "
   ]
  },
  {
   "cell_type": "markdown",
   "id": "70e3682d-b6b7-4c09-9c2f-97fccff3c1bc",
   "metadata": {
    "deletable": false,
    "editable": false,
    "tags": []
   },
   "source": [
    "**Table** is a nice way of providing organized information. You can include tables on your web page using a set of tags listed below. You need to make nested elements with these tags to create a proper table. A proper table consists of a head holding the column titles and a body holding the data items in rows. \n",
    "\n",
    "|Tag Type  |Function                 | \n",
    "|----------|-------------------------|\n",
    "|\\<table>  |Defines a table|\n",
    "|\\<thead>  |Defines the head of the table|\n",
    "|\\<tbody>  |Defines the body of the table|\n",
    "|\\<th>     |Creates a column title within the table head element|\n",
    "|\\<tr>     |Defines a row within the body element|\n",
    "|\\<td>     |Creates a data point within the corresponding row element|"
   ]
  },
  {
   "cell_type": "markdown",
   "id": "d106f8c9-902e-4bf7-81d0-db46dd5b0119",
   "metadata": {
    "deletable": false,
    "editable": false,
    "tags": []
   },
   "source": [
    "A simple table HTML code with two columns and two rows looks like this:\n",
    "\n",
    "    <table>\n",
    "        <thead>\n",
    "            <th> Column title 1 </th> \n",
    "            <th> Column title 2 </th>\n",
    "        </thead> \n",
    "        <tbody>\n",
    "            <tr>\n",
    "                <td> Item 1 in row 1 </td>\n",
    "                <td> Item 2 in row 1 </td>\n",
    "            </tr>\n",
    "            <tr>\n",
    "                <td> Item 1 in row 2 </td>\n",
    "                <td> Item 2 in row 2 </td>\n",
    "            </tr>\n",
    "        </tbody> \n",
    "    </table>"
   ]
  },
  {
   "cell_type": "markdown",
   "id": "13c864b1-fcf1-4fa0-9c11-f6132429d4d6",
   "metadata": {
    "deletable": false,
    "editable": false,
    "tags": []
   },
   "source": [
    "---\n",
    "**Exercise 4:**\n",
    "\n",
    "Can you express the design ideas for your project prototype in a table format? For example, you can make a table listing the keywords for the design of different wireframe pages. \n",
    "\n",
    "- It might be a better design if you create a separate page for the design aspects of your project. Could you make a new HTML file for this second page and provide a link to this second page on your homepage (the one that you created so far)?\n",
    "\n",
    "---"
   ]
  },
  {
   "cell_type": "markdown",
   "id": "8002ee51-e107-48fe-a02b-821a13997eea",
   "metadata": {
    "deletable": false,
    "editable": false,
    "tags": []
   },
   "source": [
    "### Collecting Information from Users"
   ]
  },
  {
   "cell_type": "markdown",
   "id": "05d3fc40-8d76-4cd4-a943-2bc152d46433",
   "metadata": {
    "deletable": false,
    "editable": false,
    "tags": []
   },
   "source": [
    "We have created a web page that displays information to the user but does not receive any input from the user. Depending on your purpose, you may want to create an interactive page and collect information from the user. One of the HTML options for adding interaction is the **form** element. Form element displays an input field on the page which can have various formats, e.g. a blank space to type a text, a selection option from a drop-down menu, a button to submit, etc. A form element requires a nested element structure like a table element.  \n",
    "\n",
    "Some tags used to create forms are listed in the table below. Among these, only the `<input>` element does not require a closing tag. \n",
    "\n",
    "|Tag Type  |Function                 | \n",
    "|----------|-------------------------|\n",
    "|\\<form>   |Defines a form|\n",
    "|\\<input>  |Creates an input field|\n",
    "|\\<label>  |Adds a label to the input field|\n",
    "\n",
    "The `<input>` tag has several important attributes. The first one is the `type` attribute which is to define the type of input. It can take many different values and each option displays a different input format on the screen. Some of them are listed here:\n",
    "\n",
    "|Values of `type` Attribute  |Function                 | \n",
    "|---------------------------|-------------------------|\n",
    "|\\\"text\"      |Creates a text field (it is the default value)|\n",
    "|\\\"number\"    |Creates a field for a number|\n",
    "|\\\"password\"  |Creates a password field while showing hidden characters on the screen|\n",
    "|\\\"email\"     |Creates a field for an email address|\n",
    "|\\\"date\"      |Creates a clickable calendar to select a date|\n",
    "|\\\"radio\"     |Creates a radio button|\n",
    "|\\\"checkbox\"  |Creates a checkbox|\n",
    "|\\\"submit\"    |Creates a clickable submit button|\n",
    "|\\\"image\"     |Creates a clickable submit button with an image|\n",
    "\n",
    "Another attribute of `<input>` is the `name`. It is used as a reference name for the corresponding input value while the input value is processed after submitting the form. We will register the input value with this name in our memory (i.e. database) and be able to track it. We will come back to the database topic later... \n",
    "\n",
    "`id` attribute of `<input>` holds a *unique* identifier value for the element. It is useful while, for example, using the `<label>` tag to display a label for the input field. `for` is an attribute of the `<label>` to link the label with an input. An example will make this clearer...\n",
    "\n",
    "Here is the body of an HTML document creating a form to collect first names and surnames from its users:\n",
    "\n",
    "    <form>\n",
    "        <input type=\"text\" name=\"first_name\" id=\"first\">\n",
    "        <label for=\"first\">\n",
    "            First Name\n",
    "        </label>\n",
    "                  <br><br>\n",
    "        <input type=\"text\" name=\"surname\" id=\"sur\">\n",
    "        <label for=\"sur\">\n",
    "            Surname\n",
    "        </label>\n",
    "                  <br><br>\n",
    "        <input type=\"submit\" name=\"submission\" id=\"sub\">\n",
    "    </form>\n",
    "\n",
    "Type it in your text editor and check how it looks. Where is the submit button? Where is the label shown?\n",
    "\n",
    "Experiment with different input types..."
   ]
  },
  {
   "cell_type": "markdown",
   "id": "bb485a95-8d72-477d-acd7-74e5994303b6",
   "metadata": {
    "deletable": false,
    "editable": false,
    "tags": []
   },
   "source": [
    "---\n",
    "\n",
    "**Exercise 5:**\n",
    "\n",
    "Can you think of basic inputs that you want to collect from the users of your group project prototype? Insert these input fields in your HTML document and make sure to add a button for the users to submit their inputs. \n",
    "\n",
    "For a better design, you can create another page for your questionnaire and navigate the user to this page from the main page using links. \n",
    "\n",
    "- After the inputs are submitted by the user, where does this information go?\n",
    "\n",
    "---"
   ]
  }
 ],
 "metadata": {
  "kernelspec": {
   "display_name": "Python 3 (ipykernel)",
   "language": "python",
   "name": "python3"
  },
  "language_info": {
   "codemirror_mode": {
    "name": "ipython",
    "version": 3
   },
   "file_extension": ".py",
   "mimetype": "text/x-python",
   "name": "python",
   "nbconvert_exporter": "python",
   "pygments_lexer": "ipython3",
   "version": "3.9.7"
  },
  "vscode": {
   "interpreter": {
    "hash": "871c404dc3897be9d46dfc5d32eb7a1fdea6dfc224ba23435a805f3d80bb8e6d"
   }
  }
 },
 "nbformat": 4,
 "nbformat_minor": 5
}
