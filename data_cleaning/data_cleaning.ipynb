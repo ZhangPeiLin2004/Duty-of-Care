{
 "cells": [
  {
   "cell_type": "markdown",
   "metadata": {},
   "source": [
    "This notebook uses data offered by [Eurostat - Poverty](https://ec.europa.eu/eurostat/databrowser/view/ILC_PEPS01N/default/table?lang=en&category=livcon.ilc.ilc_pe.ilc_peps), [Eurostat - Country Codes](https://ec.europa.eu/eurostat/statistics-explained/index.php?title=Glossary:Country_codes), and [Wikipedia](https://en.wikipedia.org/wiki/Demographics_of_the_European_Union). Some of these datasets have been slightly manipulated to fit the educational purposes of the notebook. "
   ]
  },
  {
   "cell_type": "markdown",
   "metadata": {
    "deletable": false,
    "editable": false,
    "tags": []
   },
   "source": [
    "# Data Cleaning"
   ]
  },
  {
   "cell_type": "markdown",
   "metadata": {
    "deletable": false,
    "editable": false,
    "tags": []
   },
   "source": [
    "In this notebook, you will learn how to go from raw data you find in the Internet, to a clean and usable dataset ready for your visualization or analysis. For this purpose, we will revise and extend your knowledge of `pandas` and look into: \n",
    "- Reading data \n",
    "- Rename and drop columns\n",
    "- Data transformation\n",
    "- Dealing with duplicates\n",
    "- Merging datasets\n",
    "- Missing data\n",
    "\n",
    "Except for the first step, the chosen order is not meaningful in any way. This is simply a list of different skills you would benefit from learning. The particular order in which you apply them to your dataset (and whether you apply them at all) will depend on its particularities and your preferences. \n",
    "\n",
    "Lastly, to contextualize and guide this practical, we are going to study the link between the percentage of people at poverty risk and the population of a country. We will contain our research to countries in the European Union. We will access two main datasets. One is from Eurostat and contains the proportion of people at risk of poverty in EU countries in different years. The second comes from Wikipedia (data from Eurostat) and it simply contains the population of each country in the EU based on a recent year. After processing, cleaning and merging these two datasets, we will be able to create a quick visualization to answer our question: is there a link between population and poverty for countries in the EU? \n",
    "\n",
    "Let's get started! "
   ]
  },
  {
   "cell_type": "code",
   "execution_count": 1,
   "metadata": {
    "deletable": false,
    "editable": false,
    "tags": []
   },
   "outputs": [],
   "source": [
    "# IMPORT NECESSARY PACKAGES\n",
    "\n",
    "import pandas as pd\n",
    "import numpy as np\n",
    "import sqlite3\n",
    "import matplotlib.pyplot as plt"
   ]
  },
  {
   "cell_type": "markdown",
   "metadata": {
    "deletable": false,
    "editable": false,
    "tags": []
   },
   "source": [
    "## Reading data \n",
    "\n",
    "Before any processing can be done on the data, we need our Python file to read it. There are different types of data files, but most common ones are `csv`, `tsv`, `xlsx` and `json`. Although all of these are different, you can use different functions in `pandas` to read any of them into a Data Frame (look up `pandas` and the file format you are working with to find the name and documentation of the exact function)."
   ]
  },
  {
   "cell_type": "markdown",
   "metadata": {
    "deletable": false,
    "editable": false,
    "tags": []
   },
   "source": [
    "#### Exercise 1: \n",
    "Use `pandas` to read the `ilc_peps01n_page_tabular.tsv` file in the folder `data` into a Data Frame called `pov_df`. You can use `pandas` documentation or the _seaborn_ assignment from last semester if you need some clues. \n",
    "\n",
    "Taking a look at the data, it seems to be that '`:`' was chosen to represent `NA` values in this data set. It is important to specify this in the function you use to read the data.\n",
    "\n",
    "**Hint:** Use `.head()` and `.shape` to get an overview of the data."
   ]
  },
  {
   "cell_type": "code",
   "execution_count": 4,
   "metadata": {},
   "outputs": [
    {
     "data": {
      "text/plain": [
       "<bound method NDFrame.head of    freq unit    age sex  \\\n",
       "0     A  PRP  TOTAL   T   \n",
       "1     A  PRP  TOTAL   T   \n",
       "2     A  PRP  TOTAL   T   \n",
       "3     A  PRP  TOTAL   T   \n",
       "4     A  PRP  TOTAL   T   \n",
       "5     A  PRP  TOTAL   T   \n",
       "6     A  PRP  TOTAL   T   \n",
       "7     A  PRP  TOTAL   T   \n",
       "8     A  PRP  TOTAL   T   \n",
       "9     A  PRP  TOTAL   T   \n",
       "10    A  PRP  TOTAL   T   \n",
       "11    A  PRP  TOTAL   T   \n",
       "12    A  PRP  TOTAL   T   \n",
       "13    A  PRP  TOTAL   T   \n",
       "14    A  PRP  TOTAL   T   \n",
       "15    A  PRP  TOTAL   T   \n",
       "16    A  PRP  TOTAL   T   \n",
       "17    A  PRP  TOTAL   T   \n",
       "18    A  PRP  TOTAL   T   \n",
       "19    A  PRP  TOTAL   T   \n",
       "20    A  PRP  TOTAL   T   \n",
       "21    A  PRP  TOTAL   T   \n",
       "22    A  PRP  TOTAL   T   \n",
       "23    A  PRP  TOTAL   T   \n",
       "24    A  PRP  TOTAL   T   \n",
       "25    A  PRP  TOTAL   T   \n",
       "26    A  PRP  TOTAL   T   \n",
       "27    A  PRP  TOTAL   T   \n",
       "28    A  PRP  TOTAL   T   \n",
       "29    A  PRP  TOTAL   T   \n",
       "30    A  PRP  TOTAL   T   \n",
       "31    A  PRP  TOTAL   T   \n",
       "32    A  PRP  TOTAL   T   \n",
       "33    A  PRP  TOTAL   T   \n",
       "34    A  PRP  TOTAL   T   \n",
       "35    A  PRP  TOTAL   T   \n",
       "36    A  PRP  TOTAL   T   \n",
       "37    A  PRP  TOTAL   T   \n",
       "38    A  PRP  TOTAL   T   \n",
       "39    A  PRP  TOTAL   T   \n",
       "40    A  PRP  TOTAL   T   \n",
       "41    A  PRP  TOTAL   T   \n",
       "42    A  PRP  TOTAL   T   \n",
       "43    A  PRP  TOTAL   T   \n",
       "44    A  PRP  TOTAL   T   \n",
       "\n",
       "   geo\\TIME_PERIOD\\t2015 \\t2016 \\t2017 \\t2018 \\t2019 \\t2020 \\t2021 \\t2022   \n",
       "0          AL\\t:\\t:\\t0.585\\t0.539\\t0.507\\t0.462\\t:\\t:                       \n",
       "1   AT\\t0.169\\t0.172\\t0.171\\t0.168\\t0.165\\t0.167\\t...                       \n",
       "2   BE\\t0.216\\t0.222\\t0.22\\t0.205\\t0.2\\t0.203\\t0.1...                       \n",
       "3   BG\\t0.433\\t0.41\\t0.38\\t0.33\\t0.332\\t0.336\\t0.3...                       \n",
       "4   CH\\t0.182\\t0.177\\t0.182\\t0.175\\t0.189\\t0.184\\t...                       \n",
       "5   CY\\t0.228\\t0.226\\t0.214\\t0.191\\t0.186\\t0.176\\t...                       \n",
       "6   CZ\\t0.13\\t0.124\\t0.121\\t0.118\\t0.121\\t0.115\\t0...                       \n",
       "7   DE\\t0.2\\t0.198\\t0.188\\t0.185\\t0.173\\t0.204\\t0....                       \n",
       "8   DK\\t0.186\\t0.175\\t0.178\\t0.175\\t0.173\\t0.168\\t...                       \n",
       "9   EA\\t0.23\\t0.228\\t0.217\\t0.214\\t0.208\\t0.216\\t0...                       \n",
       "10  EA18\\t0.229\\t0.227\\t0.217\\t0.213\\t0.207\\t0.216...                       \n",
       "11  EA19\\t0.23\\t0.228\\t0.217\\t0.214\\t0.208\\t0.216\\...                       \n",
       "12  EE\\t0.236\\t0.231\\t0.233\\t0.236\\t0.237\\t0.228\\t...                       \n",
       "13  EL\\t0.324\\t0.326\\t0.322\\t0.303\\t0.29\\t0.274\\t0...                       \n",
       "14  ES\\t0.287\\t0.288\\t0.275\\t0.273\\t0.262\\t0.27\\t0...                       \n",
       "15     EU\\t0.239\\t0.234\\t0.223\\t0.218\\t0.211\\t:\\t:\\t:                       \n",
       "16              EU27_2007\\t:\\t:\\t:\\t:\\t0.213\\t:\\t:\\t:                       \n",
       "17  EU27_2020\\t0.24\\t0.237\\t0.224\\t0.217\\t0.211\\t0...                       \n",
       "18   EU28\\t0.239\\t0.234\\t0.223\\t0.218\\t0.211\\t:\\t:\\t:                       \n",
       "19  FI\\t0.169\\t0.165\\t0.16\\t0.166\\t0.154\\t0.159\\t0...                       \n",
       "20  FR\\t0.184\\t0.187\\t0.178\\t0.179\\t0.188\\t0.193\\t...                       \n",
       "21  HR\\t0.244\\t0.235\\t0.237\\t0.221\\t0.208\\t0.205\\t...                       \n",
       "22  HU\\t0.306\\t0.286\\t0.259\\t0.206\\t0.2\\t0.194\\t0....                       \n",
       "23  IE\\t0.254\\t0.238\\t0.224\\t0.208\\t0.204\\t0.201\\t...                       \n",
       "24         IS\\t0.126\\t0.118\\t0.126\\t0.113\\t:\\t:\\t:\\t:                       \n",
       "25  IT\\t0.284\\t0.278\\t0.259\\t0.257\\t0.246\\t0.249\\t...                       \n",
       "26  LT\\t0.294\\t0.3\\t0.298\\t0.285\\t0.255\\t0.245\\t0....                       \n",
       "27  LU\\t0.184\\t0.191\\t0.193\\t0.201\\t0.201\\t0.199\\t...                       \n",
       "28  LV\\t0.3\\t0.282\\t0.285\\t0.284\\t0.267\\t0.251\\t0....                       \n",
       "29  ME\\t0.438\\t0.431\\t0.422\\t0.412\\t0.365\\t0.378\\t...                       \n",
       "30  MK\\t0.412\\t0.392\\t0.369\\t0.353\\t0.341\\t0.326\\t...                       \n",
       "31  MT\\t0.222\\t0.202\\t0.194\\t0.192\\t0.207\\t0.199\\t...                       \n",
       "32  NL\\t0.164\\t0.163\\t0.166\\t0.165\\t0.165\\t0.16\\t0...                       \n",
       "33  NO\\t0.147\\t0.144\\t0.154\\t0.158\\t0.156\\t0.163\\t...                       \n",
       "34  PL\\t0.225\\t0.206\\t0.187\\t0.182\\t0.179\\t0.17\\t0...                       \n",
       "35  PT\\t0.264\\t0.249\\t0.234\\t0.216\\t0.211\\t0.2\\t0....                       \n",
       "36  RO\\t0.445\\t0.46\\t0.425\\t0.387\\t0.361\\t0.356\\t0...                       \n",
       "37  RS\\t0.41\\t0.3\\t0.393\\t0.339\\t0.311\\t0.298\\t0.2...                       \n",
       "38  SE\\t0.182\\t0.177\\t0.172\\t0.177\\t0.184\\t0.177\\t...                       \n",
       "39  SI\\t0.177\\t0.169\\t0.166\\t0.154\\t0.137\\t0.143\\t...                       \n",
       "40  SK\\t0.173\\t0.171\\t0.158\\t0.152\\t0.148\\t0.138\\t...                       \n",
       "41  TR\\t0.267\\t0.266\\t0.323\\t0.324\\t0.331\\t0.341\\t...                       \n",
       "42         UK\\t0.231\\t0.219\\t0.218\\t0.228\\t:\\t:\\t:\\t:                       \n",
       "43              EU27-2007\\t:\\t:\\t:\\t:\\t0.213\\t:\\t:\\t:                       \n",
       "44  EU27-2020\\t0.24\\t0.237\\t0.224\\t0.217\\t0.211\\t0...                       >"
      ]
     },
     "execution_count": 4,
     "metadata": {},
     "output_type": "execute_result"
    }
   ],
   "source": [
    "# YOUR CODE HERE\n",
    "filepath = \"E:\\\\Csci_2\\\\data_cleaning\\\\data\\\\ilc_peps01n_page_tabular.tsv\"\n",
    "pov_df = pd.read_csv(filepath)\n",
    "pov_df.head"
   ]
  },
  {
   "cell_type": "markdown",
   "metadata": {
    "deletable": false,
    "editable": false,
    "tags": []
   },
   "source": [
    "#### Exercise 2:\n",
    "\n",
    "The table we just read gives us information regarding poverty in EU countries. Let's now read the dataset containing population information. It can also be found in the folder `data` under the name `population_wkp_eu.db`. This is an SQL Database. \n",
    "\n",
    "***Question*:** How would you distinguish between a SQL database and csv/tsv files? \n",
    "\n",
    "To read the data from a `db` file, we will use the `pandas` function `read_sql_query` that transforms the data into a DataFrame. Later in the semester, we will dive into the SQL databases. For this session, we just want to focus on data cleaning using Python and pandas. That's why we provided you with the code accessing the `db` file below.\n",
    "\n",
    "First, we need to make a 'connection' between our Python file and the database. For this, we use the package `sqlite3`. Then, we need to set a 'query' to specify what we want to get from this database. \n",
    "\n",
    "*Do you need to change the path in this code?*"
   ]
  },
  {
   "cell_type": "code",
   "execution_count": 5,
   "metadata": {
    "tags": []
   },
   "outputs": [],
   "source": [
    "database = \"data/population_wkp_eu.db\"\n",
    "conn = sqlite3.connect(database)\n",
    "# we want to access the data stored as a table named \"population\" in this db file\n",
    "query = \"SELECT * FROM population\""
   ]
  },
  {
   "cell_type": "markdown",
   "metadata": {
    "deletable": false,
    "editable": false,
    "tags": []
   },
   "source": [
    "Now that we defined the 'connection' and the 'query', we can use `read_sql_query` function to read the specified table (\"population\") from the database into a pandas DataFrame. We will call it `pop_df`."
   ]
  },
  {
   "cell_type": "code",
   "execution_count": 6,
   "metadata": {
    "deletable": false,
    "editable": false,
    "tags": []
   },
   "outputs": [],
   "source": [
    "pop_df = pd.read_sql_query(query, conn)"
   ]
  },
  {
   "cell_type": "markdown",
   "metadata": {
    "deletable": false,
    "editable": false,
    "tags": []
   },
   "source": [
    "*How does your data look like?*\n",
    "\n",
    "*What are the variables?*"
   ]
  },
  {
   "cell_type": "code",
   "execution_count": 8,
   "metadata": {},
   "outputs": [
    {
     "data": {
      "text/plain": [
       "Index(['index', 'Member State', 'Population', 'Percentof total EU-27 pop.',\n",
       "       'Total area km2', 'Percentof total EU-27 area',\n",
       "       'Pop. density People/km2', 'Source'],\n",
       "      dtype='object')"
      ]
     },
     "execution_count": 8,
     "metadata": {},
     "output_type": "execute_result"
    }
   ],
   "source": [
    "# YOUR CODE HERE\n",
    "pop_df.head\n",
    "pop_df.columns"
   ]
  },
  {
   "cell_type": "markdown",
   "metadata": {
    "deletable": false,
    "editable": false,
    "tags": []
   },
   "source": [
    "#### Exercise 3: \n",
    "\n",
    "We almost have read all the data we need: we have a DataFrame involving poverty in the EU and another one with the population of its member states. However, these two datasets refer to countries with different values: `pov_df` identifies countries by their ISO-2 code and `pop_df` identifies them by their whole name. To be able to connect them later, we need to learn the ISO-2 codes of EU countries.\n",
    "\n",
    "This information is easy to find in the web. One method to automatically obtain data from websites is called **web scraping**. You will learn more about that in your next semester. But now, we will apply a very simple form of it, using the `read_html()` method of `pandas`. It reads data tables from websites directly into DataFrames. \n",
    "\n",
    "A table with EU countries and their ISO-2 code can be found in [this page](https://ec.europa.eu/eurostat/statistics-explained/index.php?title=Glossary:Country_codes). Look up the documentation of `pd.read_html()`, and read the table containing ISO codes and whole country names from this website. \n",
    "\n",
    "Name this new DataFrame as `iso_df`. Explore it using `type()`, `.head()`, and `.shape`."
   ]
  },
  {
   "cell_type": "code",
   "execution_count": 11,
   "metadata": {},
   "outputs": [
    {
     "name": "stdout",
     "output_type": "stream",
     "text": [
      "Table 0:\n",
      "\n",
      "          0     1        2     3            4     5         6     7\n",
      "0   Belgium  (BE)   Greece  (EL)    Lithuania  (LT)  Portugal  (PT)\n",
      "1  Bulgaria  (BG)    Spain  (ES)   Luxembourg  (LU)   Romania  (RO)\n",
      "2   Czechia  (CZ)   France  (FR)      Hungary  (HU)  Slovenia  (SI)\n",
      "3   Denmark  (DK)  Croatia  (HR)        Malta  (MT)  Slovakia  (SK)\n",
      "4   Germany  (DE)    Italy  (IT)  Netherlands  (NL)   Finland  (FI) \n",
      "\n",
      "Table 1:\n",
      "\n",
      "               0     1   2            3     4\n",
      "0        Iceland  (IS) NaN       Norway  (NO)\n",
      "1  Liechtenstein  (LI) NaN  Switzerland  (CH) \n",
      "\n",
      "Table 2:\n",
      "\n",
      "                        0     1\n",
      "0  Bosnia and Herzegovina  (BA)\n",
      "1              Montenegro  (ME)\n",
      "2                 Moldova  (MD)\n",
      "3         North Macedonia  (MK)\n",
      "4                 Georgia  (GE) \n",
      "\n",
      "Table 3:\n",
      "\n",
      "         0        1\n",
      "0  Kosovo*  (XK[1]) \n",
      "\n",
      "Table 4:\n",
      "\n",
      "            0     1\n",
      "0     Armenia  (AM)\n",
      "1     Belarus  (BY)\n",
      "2  Azerbaijan  (AZ) \n",
      "\n",
      "Table 5:\n",
      "\n",
      "         0     1   2              3     4   5        6     7\n",
      "0  Algeria  (DZ) NaN        Lebanon  (LB) NaN    Syria  (SY)\n",
      "1    Egypt  (EG) NaN          Libya  (LY) NaN  Tunisia  (TN)\n",
      "2   Israel  (IL) NaN        Morocco  (MA) NaN      NaN   NaN\n",
      "3   Jordan  (JO) NaN  Palestine [2]  (PS) NaN      NaN   NaN \n",
      "\n",
      "Table 6:\n",
      "\n",
      "                          0          1\n",
      "0                 Argentina       (AR)\n",
      "1                 Australia       (AU)\n",
      "2                    Brazil       (BR)\n",
      "3                    Canada       (CA)\n",
      "4  China (except Hong Kong)  (CN_X_HK) \n",
      "\n",
      "<class 'pandas.core.frame.DataFrame'>\n",
      "          0     1        2     3            4     5         6     7\n",
      "0   Belgium  (BE)   Greece  (EL)    Lithuania  (LT)  Portugal  (PT)\n",
      "1  Bulgaria  (BG)    Spain  (ES)   Luxembourg  (LU)   Romania  (RO)\n",
      "2   Czechia  (CZ)   France  (FR)      Hungary  (HU)  Slovenia  (SI)\n",
      "3   Denmark  (DK)  Croatia  (HR)        Malta  (MT)  Slovakia  (SK)\n",
      "4   Germany  (DE)    Italy  (IT)  Netherlands  (NL)   Finland  (FI)\n",
      "(7, 8)\n"
     ]
    }
   ],
   "source": [
    "# YOUR CODE HERE\n",
    "url = \"https://ec.europa.eu/eurostat/statistics-explained/index.php?title=Glossary:Country_codes\"\n",
    "tables = pd.read_html(url)\n",
    "len(tables)\n",
    "for i, table in enumerate(tables):\n",
    "    print(f\"Table {i}:\\n\")\n",
    "    print(table.head(), \"\\n\")\n",
    "iso_df = tables[0]\n",
    "\n",
    "print(type(iso_df))\n",
    "print(iso_df.head())\n",
    "print(iso_df.shape)\n"
   ]
  },
  {
   "cell_type": "markdown",
   "metadata": {},
   "source": [
    "**Question:** *How many tables did you extract from the website?* \n",
    "\n",
    "**Question:** *What kind of variable is `iso_df` and what kind of variables does it store?* \n",
    "\n",
    "You might have realized that: A) there are too many tables in this page that are irrelevant to our needs and B) the table you need is not aligned correctly. Therefore, we need to take some extra cleaning steps after reading it. In this exercise, let's focus on the problem A and try to extract the correct table. "
   ]
  },
  {
   "cell_type": "markdown",
   "metadata": {
    "deletable": false,
    "editable": false,
    "tags": []
   },
   "source": [
    "## Rename and drop columns\n",
    "\n",
    "These datasets contain all the information we need to answer our question regarding poverty and population in the EU. Nonetheless, much processing is needed before we can create a nice visualization from them. One first step that would make all successive tasks much easier is to rename columns so they are easy to access, and drop (i.e. delete) columns that are not relevant so our DataFrames are smaller and easier to work with. We will do this for each of our three datasets. "
   ]
  },
  {
   "cell_type": "markdown",
   "metadata": {
    "deletable": false,
    "editable": false,
    "tags": []
   },
   "source": [
    "#### Exercise 4:\n",
    "\n",
    "We will start with `pov_df`. Forget about the first column for now. The other column names referring to the year in which data was collected are problematic. Print them with `pov_df.columns` and check if you can detect the problem."
   ]
  },
  {
   "cell_type": "code",
   "execution_count": 12,
   "metadata": {},
   "outputs": [
    {
     "data": {
      "text/plain": [
       "Index(['freq', 'unit', 'age', 'sex',\n",
       "       'geo\\TIME_PERIOD\\t2015 \\t2016 \\t2017 \\t2018 \\t2019 \\t2020 \\t2021 \\t2022 '],\n",
       "      dtype='object')"
      ]
     },
     "execution_count": 12,
     "metadata": {},
     "output_type": "execute_result"
    }
   ],
   "source": [
    "# YOUR CODE HERE\n",
    "pov_df.columns"
   ]
  },
  {
   "cell_type": "markdown",
   "metadata": {},
   "source": [
    "There is an unnecessary space after each date... If we do not realize that, we may struggle to index columns later on because, for example, `pov_df['2021']` would actually not work. To fix this, clean all spaces in the column names.\n",
    "\n",
    "**Hint**: You can perform a for loop over `pov_df.columns` where you delete spaces in the string. And, `.replace` method could be useful for that..."
   ]
  },
  {
   "cell_type": "code",
   "execution_count": 17,
   "metadata": {},
   "outputs": [],
   "source": [
    "# YOUR CODE HERE\n",
    "pov_df.columns = [col.strip().replace(\" \", \"\") for col in pov_df.columns]"
   ]
  },
  {
   "cell_type": "markdown",
   "metadata": {
    "deletable": false,
    "editable": false,
    "tags": []
   },
   "source": [
    "Let's look at the first column. What a horrible creature... Although right now it looks like a mess, hidden in there we have an ISO-2 code that identifies each of the countries. Now, we will only change its name to `ISO-2`. In the next section, we will clean this column further."
   ]
  },
  {
   "cell_type": "code",
   "execution_count": null,
   "metadata": {
    "tags": []
   },
   "outputs": [],
   "source": [
    "# YOUR CODE HERE\n"
   ]
  },
  {
   "cell_type": "markdown",
   "metadata": {
    "deletable": false,
    "editable": false,
    "tags": []
   },
   "source": [
    "We are not going to use all the columns for our analysis but rather pick a year to analyse. Nevertheless, we still don't know which one it is, so we don't want to drop any columns yet. "
   ]
  },
  {
   "cell_type": "markdown",
   "metadata": {
    "deletable": false,
    "editable": false,
    "tags": []
   },
   "source": [
    "#### Exercise 5:\n",
    "\n",
    "If you look into `pop_df`, you can see that its columns do not have any problem or have extremely terrible names. We will leave them as they are. Because the purpose of using `pop_df` is the population size of each EU country, we are interested in the columns `Member State` and `Population`. We will also keep the `Source` column as it contains relevant information. We would also keep any other metadata $^1$ related to our variables of interest (e.g. date of data collection). \n",
    "\n",
    "$^1$ Data that describes other data, as in describing the origin, structure, or characteristics of computer files, webpages, databases, or other digital resources.\n",
    "\n",
    "Redefine `pop_df` so that it only contains relevant columns."
   ]
  },
  {
   "cell_type": "code",
   "execution_count": null,
   "metadata": {},
   "outputs": [],
   "source": [
    "# YOUR CODE HERE\n"
   ]
  },
  {
   "cell_type": "markdown",
   "metadata": {
    "deletable": false,
    "editable": false,
    "tags": []
   },
   "source": [
    "#### Exercise 6:\n",
    "\n",
    "Back to `iso_df`, we still need to solve problem B. In exercise 3, we succefully figured out which table is the one we need and coverted it into a DataFrame. If the original form of EU ISO (country code) has 8 columns and 7 rows, you are on the right track. However, `iso_df` does not look organized. Think about how to make this into DataFrames with 2 columns, instead of 8, for `Country` and `Country Code`. You can approach this with various solutions, perhaps using `stack()` or `combine()` or `append`. \n",
    "\n",
    "Also, how do you plan to remove the parantheses from the data values? And the NaN values, if there are any? Apply these to your `iso_df`.\n",
    "\n",
    "**Important:** After manipulating the columns, it is very important you reset the index (`iso_df.reset_index(drop = True)`)."
   ]
  },
  {
   "cell_type": "code",
   "execution_count": null,
   "metadata": {},
   "outputs": [],
   "source": [
    "# YOUR CODE HERE\n"
   ]
  },
  {
   "cell_type": "markdown",
   "metadata": {
    "deletable": false,
    "editable": false,
    "tags": []
   },
   "source": [
    "## Data transformation\n",
    "\n",
    "In this section, we are going to look into data transformation and change the data values in the cells. This step is not always required and the cleaner your dataset is the less likely it is you need to perform it. In our case, and as you may have already noticed when taking an overview of `pov_df`, this is necessary. \n",
    "\n",
    "An important general rule here is to always keep your original raw data backed up. In our case, the files in the folder `data` remain unchanged. Thus, if at any point we realize that our transformation was not in place, we can go back to the original file and start again. "
   ]
  },
  {
   "cell_type": "markdown",
   "metadata": {
    "deletable": false,
    "editable": false,
    "tags": []
   },
   "source": [
    "#### Exercise 7:\n",
    "One very clear problem we have is the first column of `pov_df`. Because of how the data was stored, information about frequency, unit of measurement, sex and geographical region are crowded in one single column. In our case, we are only interested in the the geographical region (i.e. ISO-2 code). Thus, what we want to do is to clean everything up to the last comma in each cell of this column. For example, the first row value will be transformed as:\n",
    "\n",
    "<p style=\"text-align: center;\"> A,PC,TOTAL,T,AL &rarr; AL</p>\n",
    "\n",
    "There are different ways of achieving this. First, try to come up with a solution using your previous knowledge and creativity. If you cannot find a useful method in your memory, use Google or AI. \n",
    "\n",
    "In Figure 1, you can see how the first 9 rows of this new DataFrame should look like at the end of this exercise."
   ]
  },
  {
   "attachments": {
    "image.png": {
     "image/png": "[encoded data removed]"
    }
   },
   "cell_type": "markdown",
   "metadata": {
    "deletable": false,
    "editable": false,
    "tags": []
   },
   "source": [
    "**Figure 1**\n",
    "\n",
    "![image.png](attachment:image.png)"
   ]
  },
  {
   "cell_type": "code",
   "execution_count": null,
   "metadata": {},
   "outputs": [],
   "source": [
    "# YOUR CODE HERE\n"
   ]
  },
  {
   "cell_type": "markdown",
   "metadata": {
    "deletable": false,
    "editable": false,
    "tags": []
   },
   "source": [
    "<details markdown=\"1\"><summary  markdown=\"span\">Solution Idea</summary>\n",
    "\n",
    "Run a for loop over the column `ISO-2`, and for each item, you keep only the elements after the last comma. Given that each item is a string, you could do this step using the `.split()` method. You can store the transformed data values in a new list and redefine the column `ISO-2` equal to this new list.  \n",
    "\n",
    "</details>"
   ]
  },
  {
   "cell_type": "markdown",
   "metadata": {
    "deletable": false,
    "editable": false,
    "tags": []
   },
   "source": [
    "#### Exercise 8:\n",
    "The `pov_df` DataFrame is already looking much more usable but there are other things we may want to change. For instance, we may prefer the unit used in the DataFrame to be percentage instead of proportions. In this case, it is a matter of taste (I believe the layperson is more used to seeing percentages than proportions). Nevertheless this sort of transformation is sometimes required (e.g. change from Dollar to Euro, change from Kg to tons). In this case, we want to end up with the same DataFrame but with every numerical cell (excluding the country names) multiplied by 100. There are different ways of doing this. We again encourage you to use your imagination and **Google(!)** to try and solve it yourself."
   ]
  },
  {
   "cell_type": "code",
   "execution_count": null,
   "metadata": {},
   "outputs": [],
   "source": [
    "# YOUR CODE HERE\n"
   ]
  },
  {
   "cell_type": "markdown",
   "metadata": {},
   "source": [
    "<details markdown=\"1\"><summary  markdown=\"span\">Solution Idea</summary>\n",
    "\n",
    "First, get all columns after the first one into a list. Then, do a for loop over this list and multiply every column with 100. However for that, you may need to transform each column into an `np.array`.  When you finish your transformation, store this version in your DataFrame.  \n",
    "\n",
    "</details>"
   ]
  },
  {
   "cell_type": "markdown",
   "metadata": {
    "deletable": false,
    "editable": false,
    "tags": []
   },
   "source": [
    "## Dealing with duplicates\n",
    "\n",
    "Either after some clumsy transformation or in the original dataset we download, we often end up with some duplicates (i.e. different rows that refer to the same case/participant/country...). We differentiate between three types of duplicates: complete duplicates, partial duplicates and duplicates with different keys. Let's look at what they are, how to find them and what to do with them.\n",
    "\n",
    "Note that here we give some general advice on what to do with duplicates and apply this logic in our exercises. Nonetheless, each dataset should be considered independently and decisions should be made based on its characteristics."
   ]
  },
  {
   "cell_type": "markdown",
   "metadata": {
    "deletable": false,
    "editable": false,
    "tags": []
   },
   "source": [
    "#### Exercise 9:\n",
    "\n",
    "A complete duplicate refers to two or more rows that are identical. They are easy to deal with. Because they give the exact same information, deleting all but one should fix the problem. Furthermore, they are also easy to find: explore the documentation on `pd.drop_duplicates()` and check if we have any complete duplicates in any of our DataFrames. \n",
    "\n",
    "Print their `.shape` before and after `pd.drop_duplicates()` to see if there has been any changes in the number of rows. "
   ]
  },
  {
   "cell_type": "code",
   "execution_count": null,
   "metadata": {},
   "outputs": [],
   "source": [
    "# YOUR CODE HERE\n"
   ]
  },
  {
   "cell_type": "markdown",
   "metadata": {
    "deletable": false,
    "editable": false,
    "tags": []
   },
   "source": [
    "#### Exercise 10:\n",
    "As we can see, there seems to be no complete duplicates in our DataFrames. It could be the case, nevertheless, that two rows are different in some columns but are identical in the columns we are interested in (i.e. partial duplicate). For instance, `pop_df` may contain a row with the same country name and population value, but with a different population density value. We would be safe deleting any row that only differed from another one in the population density value. Sometimes, nonetheless, the column in which two rows differ is relevant. For instance, it may contain the date when the data was collected. In this case, we would not want to simply `pd.drop_duplicates()` and keep the first row, but rather check them and keep the one with the most recent date. In sum, when looking for partial duplicates, it is best to first display them and delete them only after inspection. This can be done using `pd.duplicated()`. \n",
    "\n",
    "Use this function and display those columns in `pop_df` that have the same `Member State` value (i.e. that are partial duplicates when looking at `Member State`). Notice that we want to display ALL rows with the same `Member State` value, not only the first or only the second occurrence. "
   ]
  },
  {
   "cell_type": "code",
   "execution_count": null,
   "metadata": {},
   "outputs": [],
   "source": [
    "# YOUR CODE HERE\n"
   ]
  },
  {
   "cell_type": "markdown",
   "metadata": {
    "deletable": false,
    "editable": false,
    "tags": []
   },
   "source": [
    "We can see that there are indeed some partial duplicates. Cyprus, Estonia and Poland have two different population values, one provided by Eurostat and the other by WorldInData. Now that we have inspected the duplicates, we can confidently decide to keep the one of the occurrences, in this case the row containing the more reliable data (i.e. Eurostat). \n",
    "\n",
    "Delete the displayed duplicates with data from WorldInData. "
   ]
  },
  {
   "cell_type": "code",
   "execution_count": null,
   "metadata": {},
   "outputs": [],
   "source": [
    "# YOUR CODE HERE\n"
   ]
  },
  {
   "cell_type": "markdown",
   "metadata": {
    "deletable": false,
    "editable": false,
    "tags": []
   },
   "source": [
    "#### Exercise 11:\n",
    "\n",
    "Finally, we may find rows that refer to the same case but have a different key $^1$. For instance, a DataFrame may have an entry for `DE` (i.e. Germany's ISO-2 code) and another one for `Germany`, both containing the same data about Germany. This could happen for different reasons and it is crucial and more difficult to identify. There is no function that can do it for you automatically. Sometimes the documentation of the dataset tells you what to look for. Maybe after you summarize the data (e.g. into a barplot), you will notice that a certain single case appears twice with different names (e.g. USA and North America). If there are not too many rows in your dataset, you can print and examine the key column looking for names that may refer to the same case. Use this method to see if there are any keys in `pov_df` that may refer to the same country; see if they are indeed duplicates and, if so, only keep one. \n",
    "\n",
    "Do not forget to `reset_index()` after deleting any rows in your DataFrame!\n",
    "\n",
    "$^1$ A key is a column that uniquely identifies a row (e.g. the country name in our datasets)."
   ]
  },
  {
   "cell_type": "code",
   "execution_count": null,
   "metadata": {},
   "outputs": [],
   "source": [
    "# YOUR CODE HERE\n"
   ]
  },
  {
   "cell_type": "markdown",
   "metadata": {
    "deletable": false,
    "editable": false,
    "tags": []
   },
   "source": [
    "## Missing data"
   ]
  },
  {
   "cell_type": "markdown",
   "metadata": {
    "deletable": false,
    "editable": false,
    "tags": []
   },
   "source": [
    "A key aspect of data processing is dealing with missing data (i.e. `NA` values). One first step we took care of at the very beginning was identifying what character represented missing data in our datasets. In the case of `pov_df`, this was '`:`'. It tells the DataFrame what to consider an `NA` value. The next step for us is to identify where they are and how many there are. In order to do this, we will write some code that tells us what percentage of each column are `NA`s. We will focus on `pov_df` as both `pop_df` and `iso_df` are rather small DataFrames, and we can detect by eye that there is no `NA` value present in them."
   ]
  },
  {
   "cell_type": "markdown",
   "metadata": {
    "deletable": false,
    "editable": false,
    "tags": []
   },
   "source": [
    "#### Exercise 12:\n",
    "Write a piece of code that prints the name of each column and the percentage of `NA` values in that column. You may find the method `.isna()` useful for this task. Round the percentages to two decimals. "
   ]
  },
  {
   "cell_type": "code",
   "execution_count": null,
   "metadata": {},
   "outputs": [],
   "source": [
    "# YOUR CODE HERE\n"
   ]
  },
  {
   "cell_type": "markdown",
   "metadata": {},
   "source": [
    "\n",
    "<details markdown=\"1\"><summary  markdown=\"span\">Solution Idea</summary>\n",
    "\n",
    "Write a for loop that indexes one of the columns in each iteration. Within each iteration: (1) Use the method `.isna()` on the indexed column to get a series where each `True` value represents an `NA` cell and each `False` value represents a not `NA` cell, (2) compute the percentage of `True` values, round it and print it after the column name. \n",
    "\n",
    "</details>"
   ]
  },
  {
   "cell_type": "markdown",
   "metadata": {
    "deletable": false,
    "editable": false,
    "tags": []
   },
   "source": [
    "What we have done so far is identifying the amount of NAs per column. In some cases, you  may want to see the amount of NAs per row, or whether a given variable has value NA for each of the rows. Although this does not apply to our particular case, here we leave an example code that you could use to do this. "
   ]
  },
  {
   "cell_type": "code",
   "execution_count": null,
   "metadata": {},
   "outputs": [],
   "source": [
    "# Example implementation \n",
    "na_per_row = pd.DataFrame(columns=['Country', '%_NA'])\n",
    "for ind in pov_df.index:\n",
    "    country = pov_df.iloc[ind,0]\n",
    "    perc = round(np.mean(pov_df.iloc[ind,:].isna())*100,2)\n",
    "    new_row = pd.DataFrame({'Country': [country], '%_NA': [perc]})\n",
    "    na_per_row = pd.concat([na_per_row, new_row], ignore_index=True)\n",
    "\n",
    "na_per_row"
   ]
  },
  {
   "cell_type": "markdown",
   "metadata": {
    "deletable": false,
    "editable": false,
    "tags": []
   },
   "source": [
    "#### Exercise 13:\n",
    "After identifying where the `NA` values are, one needs to decide what to do with them. This will depend on the nature of your data. In our particular case, all columns represent the percentage of people at risk of poverty or social inclusion, and simply differ in when this data was collected. We would rather use the most recent data, but it is clear that we can not use percentages from 2022 as 95% of the data is missing. 2018 seems to have very few `NA` values and its information is recent enough to be relevant. We thus will use this column in order to answer our research question. \n",
    "\n",
    "Redefine `pov_df` so it only contains 2018 data. Rename this column `pov_2018` and print the `.shape` and `.head()`."
   ]
  },
  {
   "cell_type": "code",
   "execution_count": null,
   "metadata": {},
   "outputs": [],
   "source": [
    "# YOUR CODE HERE\n"
   ]
  },
  {
   "attachments": {
    "image.png": {
     "image/png": "[encoded data removed]"
    }
   },
   "cell_type": "markdown",
   "metadata": {
    "deletable": false,
    "editable": false,
    "tags": []
   },
   "source": [
    "## Merging datasets\n",
    "\n",
    "We are finally ready to merge our `pov_df` and `pop_df` so we end up with one single DataFrame that contains both poverty and population data for EU countries. In order to do so, we will need some knowledge about what *merging* is and how to use it in `pandas`. For that, we recommend you check [this video](https://www.youtube.com/watch?v=wzN1UyfRSWI) (until 8 min 15 sec). After you watch the video, move on to the exercises. \n",
    "\n",
    "**A bit of a challenge:** If you want, you can try to generate the required DataFrame without yet looking at the exercises below. This DataFrame should only contain information of the EU countries (hint: the `pop_df` is the only DataFrame with only EU countries in it), and the following columns: the country name, the ISO-2 code for the country, the poverty data in 2018, and the population of the country based on our `pop_df`. You can see the first 14 rows of this DataFrame in Figure 2. If you don't want to be challenged right now (very respectable), follow the steps in Exercise 14 and 15. \n",
    "\n",
    "**Figure 2**\n",
    "\n",
    "![image.png](attachment:image.png)"
   ]
  },
  {
   "cell_type": "markdown",
   "metadata": {
    "deletable": false,
    "editable": false,
    "tags": []
   },
   "source": [
    "#### Exercise 14:\n",
    "\n",
    "The first thing we want to do is merge `pop_df` with `iso_df`. There are two things to take into account here: \n",
    "- We want to merge them on the country name of the column but these columns have different names in each of the two DataFrames. \n",
    "- We want to do a merge that only keeps those rows that exist in `pop_df`. Why is that? Because this DataFrame contains all EU countries and no country from outside the EU. Because our research question only involves the EU, we would need to filter out the non-EU countries, a step we accomplish by doing the merge in this way. \n",
    "\n",
    "Call the merged DataFrame `pop_df`."
   ]
  },
  {
   "cell_type": "code",
   "execution_count": null,
   "metadata": {},
   "outputs": [],
   "source": [
    "# YOUR CODE HERE\n"
   ]
  },
  {
   "cell_type": "markdown",
   "metadata": {
    "deletable": false,
    "editable": false,
    "tags": []
   },
   "source": [
    "The columns `Country` and `Member State` are redundant. To keep things clean, let's delete `Country`."
   ]
  },
  {
   "cell_type": "code",
   "execution_count": null,
   "metadata": {},
   "outputs": [],
   "source": [
    "# YOUR CODE HERE\n"
   ]
  },
  {
   "cell_type": "markdown",
   "metadata": {
    "deletable": false,
    "editable": false,
    "tags": []
   },
   "source": [
    "#### Exercise 15:\n",
    "Now both `pov_df` and `pop_df` have a common country identifier that we can use to merge them. In this merge, one thing is important:\n",
    "- We again want to merge the DataFrames in such a way that only rows in `pop_df` are kept. This decision follows the same reasoning as in the previous question. \n",
    "\n",
    "Call the merged DataFrame `final_df`."
   ]
  },
  {
   "cell_type": "code",
   "execution_count": null,
   "metadata": {},
   "outputs": [],
   "source": [
    "# YOUR CODE HERE\n"
   ]
  },
  {
   "cell_type": "markdown",
   "metadata": {
    "deletable": false,
    "editable": false,
    "tags": []
   },
   "source": [
    "## Answering our research question\n",
    "\n",
    "`final_df` contains all the information you need to answer your research question of this session, and the data it contains is clean and ready to be used. Congratulations!\n",
    "\n",
    "#### Exercise 16:\n",
    "Now, this is not a data analysis or data visualization course. Therefore, we will not go into detail regarding how to evaluate the relationship between two variables. Simply use your new DataFrame to crate a simple scatter plot with the country population on the x-axis and the percentage of people at poverty risk on the y-axis (do label the axes and give some sort of title). "
   ]
  },
  {
   "cell_type": "code",
   "execution_count": null,
   "metadata": {},
   "outputs": [],
   "source": [
    "# YOUR CODE HERE\n"
   ]
  },
  {
   "cell_type": "markdown",
   "metadata": {
    "deletable": false,
    "editable": false,
    "tags": []
   },
   "source": [
    "*Looking at your graph, what do you think about the relationship between the population size and poverty risk at the EU countries?*\n",
    "\n",
    "This is of course not the end of the story and no scientific journal is going to publish the analysis we just did. Nonetheless, we learned quite a bit of data cleaning on the way!"
   ]
  }
 ],
 "metadata": {
  "kernelspec": {
   "display_name": "base",
   "language": "python",
   "name": "python3"
  },
  "language_info": {
   "codemirror_mode": {
    "name": "ipython",
    "version": 3
   },
   "file_extension": ".py",
   "mimetype": "text/x-python",
   "name": "python",
   "nbconvert_exporter": "python",
   "pygments_lexer": "ipython3",
   "version": "3.12.4"
  }
 },
 "nbformat": 4,
 "nbformat_minor": 4
}
