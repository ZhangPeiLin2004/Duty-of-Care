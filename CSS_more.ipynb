{
 "cells": [
  {
   "cell_type": "markdown",
   "id": "c172cc66-00ff-4ee2-b840-6e4b4af1baca",
   "metadata": {
    "deletable": false,
    "editable": false,
    "tags": []
   },
   "source": [
    "## More CSS - Better Design"
   ]
  },
  {
   "cell_type": "markdown",
   "id": "e7540f84-c90b-4cba-a9b8-a73233484c6e",
   "metadata": {
    "deletable": false,
    "editable": false,
    "tags": []
   },
   "source": [
    "### Responsive Design\n",
    "\n",
    "**Viewport** is the web page area that users see on the screen of whatever device they use. The HTML structures that we built so far create one default size for all screen sizes, which ends up in a much smaller viewport for, for example, mobile phones. In terms of user experience and content delivery quality, the adjustability of the viewport is an important feature to implement in your websites. And it is easy! (For further reading on *Responsive Web Design*, see pg 38 of Robbins' book (Robbins, J. N. (2012). *Learning web design: A beginner's guide to HTML, CSS, JavaScript, and web graphics*. \"O'Reilly Media, Inc.\"))\n",
    "\n",
    "A fundamental step is to add the following line to the head section of your HTML file to adjust the viewport across different devices:\n",
    "\n",
    "    <meta name=\"viewport\" content=\"width=device-width, initial-scale=1\">\n",
    "\n",
    "Now, when the user opens your website on their mobile device, the website will be scaled down to that device’s screen size. \n",
    "\n",
    "Sometimes, when you adjust your viewport for a smaller screen, it might be that the items on the web page seem too small. Another option to improve your design is to wrap the items which do not fit horizontally into multiple lines when the screen size gets smaller. We actually added this option in the previous notebook file (CSS.ipynb) by using the `float` property. Another CSS option, called `FlexBox`, is to arrange the layout of boxes by aligning them horizontally or vertically. \n",
    "\n",
    "Let's try and see the FlexBox with an example:\n",
    "\n",
    "**Example:**\n",
    "\n",
    "I want to create six `<div>` items to display next to each other on one page. By default, each one of these six boxes will be displayed on a new line as the `<div>` elements are block boxes. See it:\n",
    "\n",
    "    <!DOCTYPE html>\n",
    "    <html lang=\"en\">\n",
    "        <head>\n",
    "            <title> Hello! </title>\n",
    "            <style>\n",
    "                #container > div {\n",
    "                    background-color: green;\n",
    "                    margin: 50px;\n",
    "                    padding: 50px;\n",
    "                    width: 200px;\n",
    "                    font-size: 40px;\n",
    "                    text-align: center}\n",
    "            </style>\n",
    "        </head>\n",
    "        <body>\n",
    "            <div id=\"container\">\n",
    "                <div> H </div>\n",
    "                <div> E </div>\n",
    "                <div> L </div>\n",
    "                <div> L </div>\n",
    "                <div> O </div>\n",
    "                <div> ! </div>\n",
    "            </div>\n",
    "        </body>\n",
    "    </html>\n",
    "    \n",
    "We can use the CSS properties `display` (to specify that these boxes will be displayed as FlexBox) and `flex-wrap` (to wrap the horizontal line of boxes into the next line) to align these six boxes by adding the following lines inside the `style` section:\n",
    "\n",
    "            #container {\n",
    "                display: flex;\n",
    "                flex-wrap: wrap}\n",
    "                \n",
    "- What happens when you shrink your browser's page?\n",
    "\n",
    "For more detailed information on FlexBox, check out [MDN Web Docs](https://developer.mozilla.org/en-US/docs/Web/CSS/CSS_Flexible_Box_Layout).\n",
    "\n",
    "Another CSS option to design a responsive layout is the Grid Layout. In addition to FlexBox, Grid allows you to manage the specifications of two dimensions, horizontally and vertically. We will not see an example usage of the Grid Layout here but if you want to learn how to use it, check this useful [website](https://css-tricks.com/snippets/css/complete-guide-grid/)."
   ]
  },
  {
   "cell_type": "markdown",
   "id": "0a962f28-ef0a-453d-a88a-4501a3250b49",
   "metadata": {
    "deletable": false,
    "editable": false,
    "tags": []
   },
   "source": [
    "### Bootstrap Framework\n",
    "\n",
    "Bootstrap is a framework providing design packages to directly implement in your HTML. You don't have to write the whole CSS code yourself from scratch but can prefer to implement ready-to-use Bootstrap options. [Here](https://getbootstrap.com/) is the website of Bootstrap where you can find all available options and how to integrate those in your code. See [Getting Started](https://getbootstrap.com/docs/5.2/getting-started/introduction/) page for the instructions on how to start using Bootstrap. \n",
    "\n",
    "Hereby, we included the most basic instructive steps you can follow to create a skeleton of your HTML including Bootstrap:\n",
    "\n",
    "\n",
    "**1.** Add the following two elements to the head of your HTML file to specify the character set used in the website and to adjust the viewport for different screen sizes:\n",
    "\n",
    "    <meta charset=\"utf-8\">\n",
    "    <meta name=\"viewport\" content=\"width=device-width, initial-scale=1\">\n",
    "\n",
    "**2.** To be able to access Bootstrap options in your code, you need to add a link to the head of your HTML. Copy this link element given on the [Bootstrap's website](https://getbootstrap.com/docs/5.3/getting-started/introduction/) to link the Bootstrap style library to your HTML:\n",
    "\n",
    "    <link href=\"https://cdn.jsdelivr.net/npm/bootstrap@5.2.3/dist/css/bootstrap.min.css\" rel=\"stylesheet\" integrity=\"sha384-rbsA2VBKQhggwzxH7pPCaAqO46MgnOM80zW1RWuH61DGLwZJEdK2Kadq2F9CUG65\" crossorigin=\"anonymous\">\n",
    "\n",
    "and paste it to the `head` part of your HTML code. The HTML code of our most basic \"Hello, world!\" web page will look like this:\n",
    "\n",
    "    <!doctype html>\n",
    "    <html lang=\"en\">\n",
    "      <head>\n",
    "      \n",
    "        <title> Hello! </title>\n",
    "        \n",
    "        <meta charset=\"utf-8\">\n",
    "        <meta name=\"viewport\" content=\"width=device-width, initial-scale=1\">\n",
    "        \n",
    "        <link href=\"https://cdn.jsdelivr.net/npm/bootstrap@5.3.0-alpha1/dist/css/bootstrap.min.css\" rel=\"stylesheet\" integrity=\"sha384-GLhlTQ8iRABdZLl6O3oVMWSktQOp6b7In1Zl3/Jr59b6EGGoI1aFkw7cmDA6j6gD\" crossorigin=\"anonymous\">\n",
    "        \n",
    "      </head>\n",
    "      <body>\n",
    "        <h1> Hello, world! </h1>\n",
    "      </body>\n",
    "    </html>\n",
    "\n",
    "After this step, you can use design options provided in the Bootstrap's website. For that, you need to copy-paste the code of the style elements that you want to include in your page and adjust it for your needs. For example, you can add alerts to your page as shown [here](https://getbootstrap.com/docs/5.2/components/alerts/). Required HTML code is given to you as `<div>` elements. **You need to copy the `<div>` you want and paste it into the `body` part of your HTML code.**\n",
    "\n",
    "Similarly, you can add [shadows](https://getbootstrap.com/docs/5.2/utilities/shadows/) in your text, [spinners](https://getbootstrap.com/docs/5.2/components/spinners/), nice looking [buttons](https://getbootstrap.com/docs/5.2/components/buttons/), [icons](https://icons.getbootstrap.com/) and so many other things... Just check out the \"Docs\" menu. They have really good documentation and when you successfully linked the stylesheet, you can just browse through their website for examples of integrating different elements."
   ]
  },
  {
   "cell_type": "markdown",
   "id": "cdc8f2e9-0ac3-4a99-9c5a-3fc8bac4bdfe",
   "metadata": {
    "deletable": false,
    "editable": false,
    "tags": []
   },
   "source": [
    "**3.** If you want to add a theme to your website, you can use the packages of [Bootswatch](https://bootswatch.com/). Simply, download the CSS file provided for the theme of your choice and save it in the same folder as your HTML file. To additionally load it in your HTML, override the Bootstrap's original link by adding a new link to this newly downloaded CSS file (by default, named \"bootstrap.min.css\"). The most basic implementation should look like this:\n",
    "\n",
    "    <!doctype html>\n",
    "    <html lang=\"en\">\n",
    "      <head>\n",
    "        <title> Hello! </title>\n",
    "        <meta charset=\"utf-8\">\n",
    "        <meta name=\"viewport\" content=\"width=device-width, initial-scale=1\">\n",
    "        \n",
    "        <link href=\"https://cdn.jsdelivr.net/npm/bootstrap@5.3.0-alpha1/dist/css/bootstrap.min.css\" rel=\"stylesheet\" integrity=\"sha384-GLhlTQ8iRABdZLl6O3oVMWSktQOp6b7In1Zl3/Jr59b6EGGoI1aFkw7cmDA6j6gD\" crossorigin=\"anonymous\">\n",
    "        <link href=\"bootstrap.min.css\" rel=\"stylesheet\">\n",
    "        \n",
    "      </head>\n",
    "      <body>\n",
    "        <h1> Hello, world! </h1>\n",
    "      </body>\n",
    "    </html>"
   ]
  },
  {
   "cell_type": "markdown",
   "id": "15dfe967-0cd5-40c8-a242-3b4703d8e85b",
   "metadata": {
    "deletable": false,
    "editable": false,
    "tags": []
   },
   "source": [
    "---\n",
    "\n",
    "**Important Note:**\n",
    "\n",
    "If you want to work with both your own stylesheet and Bootstrap, it’s important to call your own stylesheet after Bootstrap in your HTML. Code is read from top to bottom and the last one rules over the earlier ones."
   ]
  },
  {
   "cell_type": "markdown",
   "id": "47fe6bfd-d90c-4241-b227-0877924a3017",
   "metadata": {
    "deletable": false,
    "editable": false,
    "tags": []
   },
   "source": [
    "---\n",
    "As we mentioned earlier too, there are too many CSS and Bootstrap options to cover here. It is up to you to check the options available to do what you need for your design. We summarized here the resources we mentioned so far:\n",
    "\n",
    "- [W3Schools](https://www.w3schools.com/)\n",
    "- [TutorialRepublic examples](https://www.tutorialrepublic.com/css-examples.php)\n",
    "- Scroll down on the left sidebar to see the [Bootstrap options](https://getbootstrap.com/docs/5.3/getting-started/introduction/) and some [examples](https://getbootstrap.com/docs/5.3/examples/) to download\n",
    "- [Free Bootstrap Themes](https://bootswatch.com/)\n",
    "- [Free Bootstrap Templates](https://bootstrapmade.com/)\n",
    "\n",
    "---"
   ]
  }
 ],
 "metadata": {
  "kernelspec": {
   "display_name": "Python 3 (ipykernel)",
   "language": "python",
   "name": "python3"
  },
  "language_info": {
   "codemirror_mode": {
    "name": "ipython",
    "version": 3
   },
   "file_extension": ".py",
   "mimetype": "text/x-python",
   "name": "python",
   "nbconvert_exporter": "python",
   "pygments_lexer": "ipython3",
   "version": "3.9.7"
  }
 },
 "nbformat": 4,
 "nbformat_minor": 5
}
